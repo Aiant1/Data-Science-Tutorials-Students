{
  "nbformat": 4,
  "nbformat_minor": 0,
  "metadata": {
    "colab": {
      "name": "Statistics.ipynb",
      "provenance": [],
      "collapsed_sections": [],
      "authorship_tag": "ABX9TyOEZbFdr1d2wWIJ+9gy79J0",
      "include_colab_link": true
    },
    "kernelspec": {
      "name": "python3",
      "display_name": "Python 3"
    },
    "language_info": {
      "name": "python"
    }
  },
  "cells": [
    {
      "cell_type": "markdown",
      "metadata": {
        "id": "view-in-github",
        "colab_type": "text"
      },
      "source": [
        "<a href=\"https://colab.research.google.com/github/Antikadas1/Data-Science-Tutorials-Students/blob/main/Statistics.ipynb\" target=\"_parent\"><img src=\"https://colab.research.google.com/assets/colab-badge.svg\" alt=\"Open In Colab\"/></a>"
      ]
    },
    {
      "cell_type": "markdown",
      "metadata": {
        "id": "U_hAz9pdngd5"
      },
      "source": [
        "\n",
        "\n",
        "```\n",
        "# Population vs Sample\n",
        "```\n",
        "\n"
      ]
    },
    {
      "cell_type": "code",
      "metadata": {
        "colab": {
          "base_uri": "https://localhost:8080/",
          "height": 265
        },
        "id": "DDuH2VDSncxI",
        "outputId": "94ba395d-323a-49e1-d053-388f28ba99c1"
      },
      "source": [
        "# plot the gaussian pdf\n",
        "from numpy import arange\n",
        "from matplotlib import pyplot\n",
        "from scipy.stats import norm\n",
        "# define the distribution parameters\n",
        "sample_space = arange(-5, 5, 0.001)\n",
        "mean = 0\n",
        "stdev = 1\n",
        "# calculate the pdf\n",
        "pdf = norm.pdf(sample_space, mean, stdev)\n",
        "# plot\n",
        "pyplot.plot(sample_space, pdf)\n",
        "pyplot.show()\n"
      ],
      "execution_count": null,
      "outputs": [
        {
          "output_type": "display_data",
          "data": {
            "image/png": "[encoded data removed]",
            "text/plain": [
              "<Figure size 432x288 with 1 Axes>"
            ]
          },
          "metadata": {
            "tags": [],
            "needs_background": "light"
          }
        }
      ]
    },
    {
      "cell_type": "code",
      "metadata": {
        "colab": {
          "base_uri": "https://localhost:8080/",
          "height": 265
        },
        "id": "d9r00JgL-BE8",
        "outputId": "17fcfb46-242d-45c5-c390-c569cfef4a10"
      },
      "source": [
        "\n",
        "# plot the gaussian cdf\n",
        "from numpy import arange\n",
        "from matplotlib import pyplot\n",
        "from scipy.stats import norm\n",
        "# define the distribution parameters\n",
        "sample_space = arange(-5, 5, 0.001)\n",
        "# calculate the cdf\n",
        "cdf = norm.cdf(sample_space)\n",
        "# plot\n",
        "pyplot.plot(sample_space, cdf)\n",
        "pyplot.show()"
      ],
      "execution_count": null,
      "outputs": [
        {
          "output_type": "display_data",
          "data": {
            "image/png": "[encoded data removed]",
            "text/plain": [
              "<Figure size 432x288 with 1 Axes>"
            ]
          },
          "metadata": {
            "tags": [],
            "needs_background": "light"
          }
        }
      ]
    },
    {
      "cell_type": "code",
      "metadata": {
        "id": "9U0JowDWagPi"
      },
      "source": [
        "age: 20,30,25,18.... : 18 - 20\n",
        "salary: 60K,120K,30K,20K......20000 : 12000\n",
        "\n",
        "Sclaing ------\n",
        "0 , 1\n",
        "-1,1\n",
        "\n"
      ],
      "execution_count": null,
      "outputs": []
    },
    {
      "cell_type": "code",
      "metadata": {
        "id": "mbHSh0pJVCAm"
      },
      "source": [
        "a=[2,2,3,5,5,5,7,7,7,7,]\n",
        "\n",
        "a7=a.count(7)/len(a)\n",
        "a5=a.count(5)/len(a)\n",
        "a2=a.count(2)/len(a)\n",
        "a3=a.count(3)/len(a)\n"
      ],
      "execution_count": null,
      "outputs": []
    },
    {
      "cell_type": "code",
      "metadata": {
        "id": "HuL-IKRcV6pt"
      },
      "source": [
        "import pandas as pd\n",
        "from sklearn.preprocessing import StandardScaler\n",
        "\n",
        "df = pd.DataFrame({\"cost\": [300,3,1,5,20]})\n",
        "\n",
        "# # # Scale selected columns by index\n",
        "df_scaled = StandardScaler().fit_transform(df)\n",
        "\n",
        "d=[]\n",
        "for i in range(len(df_scaled)):\n",
        "  d.append(df_scaled[i].tolist()[0])\n",
        "\n"
      ],
      "execution_count": null,
      "outputs": []
    },
    {
      "cell_type": "code",
      "metadata": {
        "colab": {
          "base_uri": "https://localhost:8080/"
        },
        "id": "oAuO4yCDh0td",
        "outputId": "907dc6ff-5dde-4cb9-b733-68f91ca9a86e"
      },
      "source": [
        "d"
      ],
      "execution_count": null,
      "outputs": [
        {
          "output_type": "execute_result",
          "data": {
            "text/plain": [
              "[1.99672998476005,\n",
              " -0.5354169216179809,\n",
              " -0.5524684159370249,\n",
              " -0.518365427298937,\n",
              " -0.39047921990610707]"
            ]
          },
          "metadata": {
            "tags": []
          },
          "execution_count": 14
        }
      ]
    },
    {
      "cell_type": "code",
      "metadata": {
        "colab": {
          "base_uri": "https://localhost:8080/",
          "height": 282
        },
        "id": "0faPpk2-iFML",
        "outputId": "6d0072df-022c-46cd-efba-2054ddd29402"
      },
      "source": [
        "df.plot()\n",
        "df[\"cost\"].std()"
      ],
      "execution_count": null,
      "outputs": [
        {
          "output_type": "execute_result",
          "data": {
            "text/plain": [
              "131.1361887504742"
            ]
          },
          "metadata": {
            "tags": []
          },
          "execution_count": 21
        },
        {
          "output_type": "display_data",
          "data": {
            "image/png": "[encoded data removed]",
            "text/plain": [
              "<Figure size 432x288 with 1 Axes>"
            ]
          },
          "metadata": {
            "tags": [],
            "needs_background": "light"
          }
        }
      ]
    },
    {
      "cell_type": "code",
      "metadata": {
        "id": "YdSzRAwfi0bu"
      },
      "source": [
        ""
      ],
      "execution_count": null,
      "outputs": []
    },
    {
      "cell_type": "code",
      "metadata": {
        "colab": {
          "base_uri": "https://localhost:8080/",
          "height": 203
        },
        "id": "IzQ3_B4Fh1nl",
        "outputId": "487421f2-158b-4154-f305-ab0ca9864830"
      },
      "source": [
        "df_scaled_d = pd.DataFrame({\"cost_scaled\":d})\n",
        "df_scaled_d\n"
      ],
      "execution_count": null,
      "outputs": [
        {
          "output_type": "execute_result",
          "data": {
            "text/html": [
              "<div>\n",
              "<style scoped>\n",
              "    .dataframe tbody tr th:only-of-type {\n",
              "        vertical-align: middle;\n",
              "    }\n",
              "\n",
              "    .dataframe tbody tr th {\n",
              "        vertical-align: top;\n",
              "    }\n",
              "\n",
              "    .dataframe thead th {\n",
              "        text-align: right;\n",
              "    }\n",
              "</style>\n",
              "<table border=\"1\" class=\"dataframe\">\n",
              "  <thead>\n",
              "    <tr style=\"text-align: right;\">\n",
              "      <th></th>\n",
              "      <th>cost_scaled</th>\n",
              "    </tr>\n",
              "  </thead>\n",
              "  <tbody>\n",
              "    <tr>\n",
              "      <th>0</th>\n",
              "      <td>1.996730</td>\n",
              "    </tr>\n",
              "    <tr>\n",
              "      <th>1</th>\n",
              "      <td>-0.535417</td>\n",
              "    </tr>\n",
              "    <tr>\n",
              "      <th>2</th>\n",
              "      <td>-0.552468</td>\n",
              "    </tr>\n",
              "    <tr>\n",
              "      <th>3</th>\n",
              "      <td>-0.518365</td>\n",
              "    </tr>\n",
              "    <tr>\n",
              "      <th>4</th>\n",
              "      <td>-0.390479</td>\n",
              "    </tr>\n",
              "  </tbody>\n",
              "</table>\n",
              "</div>"
            ],
            "text/plain": [
              "   cost_scaled\n",
              "0     1.996730\n",
              "1    -0.535417\n",
              "2    -0.552468\n",
              "3    -0.518365\n",
              "4    -0.390479"
            ]
          },
          "metadata": {
            "tags": []
          },
          "execution_count": 17
        }
      ]
    },
    {
      "cell_type": "code",
      "metadata": {
        "colab": {
          "base_uri": "https://localhost:8080/",
          "height": 282
        },
        "id": "vsONrxTCiB6J",
        "outputId": "738cfff5-f372-465b-abfb-8e8c8f0746b8"
      },
      "source": [
        "df_scaled_d.plot()\n",
        "\n"
      ],
      "execution_count": null,
      "outputs": [
        {
          "output_type": "execute_result",
          "data": {
            "text/plain": [
              "<matplotlib.axes._subplots.AxesSubplot at 0x7f1efcc38910>"
            ]
          },
          "metadata": {
            "tags": []
          },
          "execution_count": 18
        },
        {
          "output_type": "display_data",
          "data": {
            "image/png": "[encoded data removed]",
            "text/plain": [
              "<Figure size 432x288 with 1 Axes>"
            ]
          },
          "metadata": {
            "tags": [],
            "needs_background": "light"
          }
        }
      ]
    },
    {
      "cell_type": "code",
      "metadata": {
        "colab": {
          "base_uri": "https://localhost:8080/"
        },
        "id": "OfQbvgHoiNO1",
        "outputId": "0c247e9e-f706-4da4-8ec9-993fe9d3b944"
      },
      "source": [
        "df_scaled_d.mean()\n",
        "0.000031"
      ],
      "execution_count": null,
      "outputs": [
        {
          "output_type": "execute_result",
          "data": {
            "text/plain": [
              "cost_scaled    1.110223e-17\n",
              "dtype: float64"
            ]
          },
          "metadata": {
            "tags": []
          },
          "execution_count": 19
        }
      ]
    },
    {
      "cell_type": "code",
      "metadata": {
        "colab": {
          "base_uri": "https://localhost:8080/"
        },
        "id": "Cb4aAKHVjyZ9",
        "outputId": "1c530968-e1a1-4cb8-ea02-12db9d9dbd24"
      },
      "source": [
        "df_scaled_d.std()"
      ],
      "execution_count": null,
      "outputs": [
        {
          "output_type": "execute_result",
          "data": {
            "text/plain": [
              "cost_scaled    1.118034\n",
              "dtype: float64"
            ]
          },
          "metadata": {
            "tags": []
          },
          "execution_count": 22
        }
      ]
    },
    {
      "cell_type": "code",
      "metadata": {
        "id": "3gC9bx3gj372",
        "colab": {
          "base_uri": "https://localhost:8080/"
        },
        "outputId": "60ed8350-1b73-4dc0-e65d-72d032c46aba"
      },
      "source": [
        "from collections import Counter\n",
        "from sklearn.datasets import make_classification\n",
        "from imblearn.under_sampling import TomekLinks \n",
        "X, y = make_classification(n_classes=2, class_sep=2,weights=[0.1, 0.9], n_informative=3, n_redundant=1, flip_y=0,n_features=20, n_clusters_per_class=1, n_samples=10000, random_state=10)\n",
        "print('Original dataset shape {}'.format(Counter(y)))\n",
        "\n",
        "# Original dataset shape Counter({1: 10000, 0: 100})\n",
        "tl = TomekLinks()\n",
        "X_res, y_res = tl.fit_sample(X, y)\n",
        "print('Resampled dataset shape {}'.format(Counter(y_res)))\n",
        "# Resampled dataset shape Counter({1: 897, 0: 100})"
      ],
      "execution_count": null,
      "outputs": [
        {
          "output_type": "stream",
          "text": [
            "Original dataset shape Counter({1: 9000, 0: 1000})\n",
            "Resampled dataset shape Counter({1: 8976, 0: 1000})\n"
          ],
          "name": "stdout"
        },
        {
          "output_type": "stream",
          "text": [
            "/usr/local/lib/python3.7/dist-packages/sklearn/utils/deprecation.py:87: FutureWarning: Function safe_indexing is deprecated; safe_indexing is deprecated in version 0.22 and will be removed in version 0.24.\n",
            "  warnings.warn(msg, category=FutureWarning)\n"
          ],
          "name": "stderr"
        }
      ]
    },
    {
      "cell_type": "code",
      "metadata": {
        "id": "pQF6kshtqwQy"
      },
      "source": [
        ""
      ],
      "execution_count": null,
      "outputs": []
    }
  ]
}